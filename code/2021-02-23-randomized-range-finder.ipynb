{
 "cells": [
  {
   "cell_type": "code",
   "execution_count": 2,
   "metadata": {},
   "outputs": [],
   "source": [
    "import torch\n",
    "import numpy as np\n",
    "import matplotlib.pyplot as plt"
   ]
  },
  {
   "cell_type": "code",
   "execution_count": 16,
   "metadata": {},
   "outputs": [],
   "source": [
    "def get_tensor(m=200, n=1000, rank=100, symmetric=False):\n",
    "    A = torch.randn(m, n)\n",
    "    u, s, v = torch.svd(A)\n",
    "    s[rank:] = 0\n",
    "    s += 1.\n",
    "    A = u @s.diag() @ v.T\n",
    "    return A.T@A if symmetric else A"
   ]
  },
  {
   "cell_type": "code",
   "execution_count": 3,
   "metadata": {},
   "outputs": [
    {
     "name": "stdout",
     "output_type": "stream",
     "text": [
      "tensor(1.2372e-05) tensor(1.1253e-05) 50 49\n"
     ]
    }
   ],
   "source": [
    "def range_finder(mat, size, r, epsilon, power=0, max_iter=200):\n",
    "    \"\"\"Automatic range finder Algo 4.2 from Halko, Martinsson, Tropp 2011\"\"\"\n",
    "    assert isinstance(mat, torch.Tensor) or callable(mat)\n",
    "    if isinstance(mat, torch.Tensor):\n",
    "        A = lambda x: mat@x \n",
    "    else:\n",
    "        A = mat\n",
    "    m, n = size\n",
    "    omega = torch.randn(n, r)\n",
    "    omega, _ = torch.qr(omega)\n",
    "    y = A(omega)\n",
    "    j = -1\n",
    "\n",
    "    Q = torch.zeros(m, 0)\n",
    "    I = torch.eye(m)\n",
    "\n",
    "    while y[:, j+1:].norm(dim=0).max() > epsilon/(10*np.sqrt(2/np.pi)):\n",
    "        j = j + 1\n",
    "\n",
    "        for _ in range(power):  # optional power method to control spectrum\n",
    "            y[:, j] = A(y[:, j])\n",
    "\n",
    "        y[:, j] = (I - Q@Q.T) @ y[:, j]\n",
    "\n",
    "        q = y[:,j]/y[:,j].norm()\n",
    "        Q = torch.cat([Q, q.unsqueeze(-1)], -1)\n",
    "\n",
    "        omega2 = torch.randn(n,1)\n",
    "        y2 = (I - Q@Q.T) @ A(omega2)\n",
    "        y = torch.cat([y, y2], -1)\n",
    "\n",
    "        y[:, j+1:j+r] = y[:, j+1:j+r] - Q@Q.T@y[:, j+1:j+r]  # orthogonalize against Q\n",
    "\n",
    "        if j == max_iter:\n",
    "            break\n",
    "    \n",
    "    error_true = ((I - Q@Q.T) @ A(torch.eye(n))).norm(p=2)  # don't have access to this usually\n",
    "    error_approx = y[:, -1].norm()\n",
    "    print(error_true,\n",
    "          error_approx, \n",
    "          Q.shape[1],\n",
    "         j)\n",
    "    \n",
    "    return Q\n",
    "\n",
    "m, n, r_true = 200, 2000, 50\n",
    "A = get_tensor(m, n, r_true, symmetric=True)\n",
    "Q1 = range_finder(A, size=(n,n), r=10, power=0, epsilon=1e-1)"
   ]
  },
  {
   "cell_type": "code",
   "execution_count": 4,
   "metadata": {},
   "outputs": [],
   "source": [
    "eigenvalues, vecs = torch.symeig((Q1.T @ A @ Q1), eigenvectors=True, )\n",
    "\n",
    "eigenvectors = Q1 @ vecs"
   ]
  },
  {
   "cell_type": "code",
   "execution_count": 5,
   "metadata": {},
   "outputs": [
    {
     "data": {
      "text/plain": [
       "<matplotlib.legend.Legend at 0x7fb2a931ccd0>"
      ]
     },
     "execution_count": 5,
     "metadata": {},
     "output_type": "execute_result"
    },
    {
     "data": {
      "image/png": "[encoded data removed]",
      "text/plain": [
       "<Figure size 432x288 with 1 Axes>"
      ]
     },
     "metadata": {
      "needs_background": "light"
     },
     "output_type": "display_data"
    }
   ],
   "source": [
    "plt.plot((eigenvectors.T @ A @ eigenvectors).diag()[-r_true:], label='estimated')\n",
    "plt.plot(torch.symeig(A)[0][-r_true:], '.', label='true')\n",
    "plt.legend()"
   ]
  }
 ],
 "metadata": {
  "kernelspec": {
   "display_name": "Python 3",
   "language": "python",
   "name": "python3"
  },
  "language_info": {
   "codemirror_mode": {
    "name": "ipython",
    "version": 3
   },
   "file_extension": ".py",
   "mimetype": "text/x-python",
   "name": "python",
   "nbconvert_exporter": "python",
   "pygments_lexer": "ipython3",
   "version": "3.7.9"
  }
 },
 "nbformat": 4,
 "nbformat_minor": 4
}
