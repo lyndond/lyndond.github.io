{
 "cells": [
  {
   "cell_type": "markdown",
   "metadata": {},
   "source": [
    "Here I'll walk through a cool algorithm that adaptively approximates the column space of a matrix using random projections."
   ]
  },
  {
   "cell_type": "markdown",
   "metadata": {
    "pycharm": {
     "name": "#%% md\n"
    }
   },
   "source": [
    "## Background\n",
    "\n",
    "Imagine we have a matrix ``A`` and that we wish to approximate its column space (i.e. range).\n",
    "This means finding the space in which the **output** of ``A`` lives.\n",
    "This can be particularly handy in describing ``A`` when it's too big to store in memory; and, approximating the range is the essential first step of randomized SVD or eigendecompostion.\n",
    "\n",
    "We're going to find a orthonormal basis ``Q`` that approximates the column space of ``A``.\n",
    "\n",
    "A modern approach to this problem is to _randomly_ initialize a bunch of vectors $$\\Omega$$, then push those vectors through ``A``, $$Y=A\\Omega$$, and then orthogonaize the output matrix ``Y``. \n",
    "The idea is that ``Y`` is representative of the action ``A`` has on its inputs, and by orthogonalizing ``Y`` to get ``Q``, we get a nice approximation to the basis in which those outputs live.\n",
    "\n",
    "The problem with this approach is that we need to select the number of vectors in $$\\Omega$$ ahead of time.\n",
    "What if we don't know the dimensionality of the output space, and we want to figure it out iteratively/adaptively?\n",
    "\n",
    "Ideally, our basis ``Q`` will minimize the exact approximation error $$\\text{error(Q)}=\\parallel A - QQ^\\top A\\parallel$$, where the bars are a matrix norm.\n",
    "If ``Q`` is the true column space of ``A``, then this norm should be zero."
   ]
  },
  {
   "cell_type": "code",
   "execution_count": 105,
   "metadata": {},
   "outputs": [
    {
     "data": {
      "text/plain": [
       "torch.Size([2000, 2000])"
      ]
     },
     "execution_count": 105,
     "metadata": {},
     "output_type": "execute_result"
    }
   ],
   "source": [
    "import torch\n",
    "import numpy as np\n",
    "import matplotlib.pyplot as plt\n",
    "from tqdm import tqdm\n",
    "\n",
    "def get_tensor(\n",
    "    n: int, \n",
    "    rank: int\n",
    "):\n",
    "    \"\"\"Define random, fixed-rank nxn matrix\"\"\"\n",
    "    mtx = torch.randn(rank, n)\n",
    "    u, s, v = torch.svd(mtx)\n",
    "    s[rank:] = 0  # fix the rank\n",
    "    s = (s/s.max())**3  # quickly decaying spectrum\n",
    "    mtx = u @s.diag() @ v.T\n",
    "    return mtx.T @ mtx\n",
    "\n",
    "rank_true = 111  # fix rank to 111\n",
    "m, n = 200, 2000\n",
    "A = get_tensor(n, rank_true)\n",
    "A.shape"
   ]
  },
  {
   "cell_type": "markdown",
   "metadata": {},
   "source": [
    "I made a ``2000 x 2000`` matrix whose rank is 111, but we're going to pretend we don't know that and we're trying to find it.\n",
    "We can plot the spectrum of this matrix below."
   ]
  },
  {
   "cell_type": "code",
   "execution_count": 106,
   "metadata": {},
   "outputs": [
    {
     "data": {
      "image/png": "[encoded data removed]",
      "text/plain": [
       "<Figure size 432x288 with 1 Axes>"
      ]
     },
     "metadata": {
      "needs_background": "light"
     },
     "output_type": "display_data"
    }
   ],
   "source": [
    "_,s,_=torch.svd(A, compute_uv=False)\n",
    "fig, ax = plt.subplots(1, 1)\n",
    "ax.stem(s[:200])\n",
    "ax.set(title=\"First 200 eigenvals of spectrum\");"
   ]
  },
  {
   "cell_type": "markdown",
   "metadata": {},
   "source": [
    "## The algorithm\n",
    "\n",
    "Instead of choosing the dimensionality of ``Q``, we're going to build ``Q`` **iteratively**, one vector at a time.\n",
    "We typically can't directly compute the approximation error $$\\text{error(Q)}=\\parallel A - QQ^\\top A\\parallel$$, because we don't have direct access to ``A``, and only have access to it implicitly via matrix-vector products. \n",
    "\n",
    "We begin by drawing a sequence of ``r`` standard Gaussian vectors ``omega`` where ``r`` is a small integer that balances computational cost and reliability.\n",
    "\n",
    "If we can't compute the exact approximation error directly, we can instead make use of an upper bound where\n",
    "\n",
    "$$\n",
    "\\left\\|\\left({I}-{Q} {Q}^{\\top}\\right) {A}\\right\\| \\leq 10 \\sqrt{\\frac{2}{\\pi}} \\max _{i=1, \\ldots, r}\\left\\|\\left({I}-{Q} {Q}^{\\top}\\right) A \\omega^{(i)}\\right\\|\n",
    "$$\n",
    "\n",
    "with probability at least $$1-10^{-r}$$.\n",
    "Even though we won't always have access to ``A`` to compute the left side, we can easily compute the term on the right side.\n",
    "**In words**, this means that the exact approximation error to the column space of ``A`` is bounded from the top by some constant times the maximum norm of the difference between some vector ``A * omega`` and its ``Q``-projection, ``QQ.T * A * omega``. \n",
    "And the more omegas we start with, the higher the probability.\n",
    "\n",
    "So the idea is that we: 0) start with an empty ``Q``; 1) draw a new Gaussian vector ``omega`` on each iteration; 2) matrix multiply it to get ``y = A * omega`` and store it; 3) orthonormalize it against all previous ``Q``; 4) append to ``Q``.\n",
    "The moment we get ``r`` consecutive ``y`` vectors whose norms are smaller than some desired threshold, then we can stop.\n",
    "\n",
    "\n",
    "So by using a series of random projections, we can determine the column space (and therefore the rank) of any arbitrarily large matrix.\n",
    "More info of this algo can be found in in Halko et al. 2011 (Algo 4.2).\n",
    "Below is a Python torch implementation with detailed comments."
   ]
  },
  {
   "cell_type": "code",
   "execution_count": 109,
   "metadata": {
    "scrolled": true
   },
   "outputs": [
    {
     "name": "stderr",
     "output_type": "stream",
     "text": [
      " 74%|███████▍  | 111/150 [00:21<00:07,  5.28it/s, approx_err=4.382E-05, true_err=2.747E-05]"
     ]
    },
    {
     "name": "stdout",
     "output_type": "stream",
     "text": [
      "Approximation error thresh or max_iter reached\n"
     ]
    },
    {
     "name": "stderr",
     "output_type": "stream",
     "text": [
      "\n"
     ]
    }
   ],
   "source": [
    "def adaptive_randomized_range_finder(\n",
    "    A: torch.Tensor, \n",
    "    r: int, tolerance: float, \n",
    "    max_iter: int = 200\n",
    "):\n",
    "    \"\"\"Adaptive range finder Algo 4.2 from Halko, Martinsson, Tropp 2011.\n",
    "    Given an m × n matrix A, a tolerance epsilon, and an integer r\n",
    "    (e.g. r = 10), this scheme computes an orthonormal matrix Q s.t.\n",
    "    |(I-Q*Q.T)*A|<= epsilon holds w/ probability\n",
    "    at least 1 − min{m, n} 10^−r.\n",
    "    \"\"\"\n",
    "\n",
    "    m, n = A.shape\n",
    "    \n",
    "    omega = torch.randn(n, r)\n",
    "    omega, _ = torch.qr(omega)\n",
    "    y = A @ omega  # y has r vectors\n",
    "    \n",
    "    # initial range space estimate (single vector)\n",
    "    Q = torch.empty(m, 0)\n",
    "    I = torch.eye(m)\n",
    "    \n",
    "    # our threshold is related to our tolerance divided by a fixed constant\n",
    "    thresh = tolerance / (10*np.sqrt(2/np.pi))\n",
    "    error_approx = y.norm(dim=0).max()\n",
    "    loss_approx = []\n",
    "    loss_true = []\n",
    "    \n",
    "    pbar = tqdm(range(max_iter))\n",
    "    for j in pbar:\n",
    "        \n",
    "        if  error_approx <= thresh:\n",
    "            print(\"Approximation error thresh or max_iter reached\")\n",
    "            break\n",
    "        else:\n",
    "\n",
    "            # reproject onto the range orthog to Q, i.e. (y_j - Q*Q.T*y_j)\n",
    "            # then overwrite y_j \n",
    "            y[:, j] = (I - Q@Q.T) @ y[:, j]\n",
    "            \n",
    "            # normalize it and append to Q\n",
    "            q = y[:,j] / y[:,j].norm()\n",
    "            Q = torch.cat([Q, q.unsqueeze(-1)], -1)\n",
    "            \n",
    "            # draw new gaussian vec\n",
    "            omega = torch.randn(n, 1)\n",
    "\n",
    "            # get approximation error = (A @ w - QQ.T @ w)\n",
    "            y_add = (I - Q @ Q.T) @ (A @ omega)\n",
    "            \n",
    "            # append to y's\n",
    "            y = torch.cat([y, y_add], -1)  \n",
    "            \n",
    "            # overwrite j+1:j+r-1 vecs\n",
    "            y[:, j+1:j+r] = (I - Q @ Q.T) @ y[:, j+1:j+r]\n",
    "            \n",
    "            # compute true error (we don't usually have access to this)\n",
    "            error_true = ((I - Q @ Q.T) @ A).norm(p=2)\n",
    "            \n",
    "            # compute error of last r consecutive vecs\n",
    "            error_approx = y[:, -r:].norm(dim=0).max()  \n",
    "            \n",
    "        loss_true.append(error_true)\n",
    "        loss_approx.append(error_approx)\n",
    "        pbar.set_postfix({\"approx_err\": f\"{error_approx:.3E}\",\n",
    "                          \"true_err\": f\"{error_true:.3E}\"})\n",
    "    return Q, loss_approx, loss_true\n",
    "\n",
    "Q_approx, losses_approx, losses_true = adaptive_randomized_range_finder(A, r=10, tolerance=.1, max_iter=150)"
   ]
  },
  {
   "cell_type": "markdown",
   "metadata": {},
   "source": [
    "## Conclusion:\n",
    "The algorithm automatically stopped at the intrinsic rank of the matrix (rank=111)!\n",
    "We successfully used randomized projections to compute the column space of a matrix.\n",
    "Approximating the range of a matrix is the more difficult step in computing a randomized SVD or eigendecomposition, so  this sets us up nicely for follow-up analyses."
   ]
  },
  {
   "cell_type": "code",
   "execution_count": 108,
   "metadata": {},
   "outputs": [
    {
     "name": "stdout",
     "output_type": "stream",
     "text": [
      "real rank: 111 | computed rank: 111\n"
     ]
    },
    {
     "data": {
      "image/png": "[encoded data removed]",
      "text/plain": [
       "<Figure size 432x288 with 1 Axes>"
      ]
     },
     "metadata": {
      "needs_background": "light"
     },
     "output_type": "display_data"
    }
   ],
   "source": [
    "print(f\"real rank: {rank_true} | computed rank: {Q_approx.shape[1]}\")\n",
    "\n",
    "fig, ax = plt.subplots(1, 1)\n",
    "ax.plot(losses_approx, '.', label=\"estimated error\")\n",
    "ax.plot(losses_true, '.', label=\"true error\")\n",
    "ax.set(yscale='log', ylabel=\"error\", xlabel='iter', title=\"column space approximation error\")\n",
    "plt.legend();"
   ]
  }
 ],
 "metadata": {
  "kernelspec": {
   "display_name": "Python 3",
   "language": "python",
   "name": "python3"
  },
  "language_info": {
   "codemirror_mode": {
    "name": "ipython",
    "version": 3
   },
   "file_extension": ".py",
   "mimetype": "text/x-python",
   "name": "python",
   "nbconvert_exporter": "python",
   "pygments_lexer": "ipython3",
   "version": "3.8.8"
  }
 },
 "nbformat": 4,
 "nbformat_minor": 4
}
